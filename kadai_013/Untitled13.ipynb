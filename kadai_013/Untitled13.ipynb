{
  "nbformat": 4,
  "nbformat_minor": 0,
  "metadata": {
    "colab": {
      "provenance": []
    },
    "kernelspec": {
      "name": "python3",
      "display_name": "Python 3"
    },
    "language_info": {
      "name": "python"
    }
  },
  "cells": [
    {
      "cell_type": "code",
      "execution_count": 5,
      "metadata": {
        "colab": {
          "base_uri": "https://localhost:8080/"
        },
        "id": "L3rxJwdWxBDe",
        "outputId": "5ed17821-f112-499f-b24a-2996d8d99241"
      },
      "outputs": [
        {
          "output_type": "stream",
          "name": "stdout",
          "text": [
            "121.0円\n"
          ]
        }
      ],
      "source": [
        "def total(price, tax):\n",
        "    total = price + price * tax / 100\n",
        "\n",
        "    print(f\"{total}円\")\n",
        "\n",
        "total(110, 10)"
      ]
    }
  ]
}